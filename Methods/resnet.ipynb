{
 "cells": [
  {
   "cell_type": "markdown",
   "metadata": {},
   "source": [
    "# ResNet"
   ]
  },
  {
   "cell_type": "code",
   "execution_count": null,
   "metadata": {
    "_cell_guid": "79c7e3d0-c299-4dcb-8224-4455121ee9b0",
    "_uuid": "d629ff2d2480ee46fbb7e2d37f6b5fab8052498a"
   },
   "outputs": [],
   "source": [
    "import os\n",
    "import numpy as np\n",
    "import pickle\n",
    "import keras\n",
    "import tensorflow as tf\n",
    "import warnings\n",
    "from matplotlib import pyplot as plt\n",
    "from IPython.display import clear_output\n",
    "\n",
    "from keras.models import Sequential, Input, Model\n",
    "from keras.layers import Dense, Dropout, Flatten, LSTM, Embedding, Activation, Add\n",
    "from keras.layers import Conv2D, MaxPooling2D, AveragePooling2D\n",
    "from keras.layers.normalization import BatchNormalization\n",
    "from keras.layers.advanced_activations import LeakyReLU, ReLU, ELU\n",
    "from keras.regularizers import l2 # L2-regularisation\n",
    "from keras.models import Model\n",
    "from keras import optimizers\n",
    "from keras.layers.advanced_activations import LeakyReLU\n",
    "\n",
    "warnings.filterwarnings(\"ignore\")"
   ]
  },
  {
   "cell_type": "markdown",
   "metadata": {},
   "source": [
    "### Data loader"
   ]
  },
  {
   "cell_type": "code",
   "execution_count": null,
   "metadata": {},
   "outputs": [],
   "source": [
    "def load_data(data_name):\n",
    "    pkl_file = open(data_name + '.pkl', 'rb')\n",
    "    data = pickle.load(pkl_file)\n",
    "    pkl_file.close()\n",
    "    return data\n",
    "\n",
    "\n",
    "print('Loading data...')\n",
    "train = np.array(load_data('../input/neuraldataset2540/neural_train'))\n",
    "train_label = np.array(load_data('../input/neuraldataset2540/neural_train_label'))\n",
    "test = np.array(load_data('../input/neuraldataset2540/neural_test'))\n",
    "test_label = np.array(load_data('../input/neuraldataset2540/neural_test_label'))\n",
    "valid = np.array(load_data('../input/neuraldataset2540/neural_valid'))\n",
    "valid_label = np.array(load_data('../input/neuraldataset2540/neural_valid_label'))\n",
    "print('Data are loaded')"
   ]
  },
  {
   "cell_type": "markdown",
   "metadata": {},
   "source": [
    "## ResNet"
   ]
  },
  {
   "cell_type": "markdown",
   "metadata": {},
   "source": [
    "Layer blocks"
   ]
  },
  {
   "cell_type": "code",
   "execution_count": null,
   "metadata": {},
   "outputs": [],
   "source": [
    "def relu_bn(inputs):\n",
    "    relu = (ELU(alpha=0.1))(inputs)\n",
    "    \n",
    "    return relu\n",
    "\n",
    "\n",
    "def residual_block_identity(x, filters, l2_lambda):\n",
    "    \n",
    "    f1, f2 = filters\n",
    "    \n",
    "    y = (Conv2D(filters = f1, \n",
    "                kernel_size = (5, 5),\n",
    "                activation = 'linear', \n",
    "                W_regularizer = l2(l2_lambda), \n",
    "                padding = 'same'))(x)\n",
    "    \n",
    "    y = (LeakyReLU(alpha=0.1))(y)\n",
    "    \n",
    "    y = (Conv2D(filters = f2, \n",
    "                kernel_size = (5, 5), \n",
    "                activation = 'linear', \n",
    "                W_regularizer = l2(l2_lambda), \n",
    "                padding = 'same'))(y)\n",
    "    \n",
    "    y = (LeakyReLU(alpha=0.1))(y)\n",
    "    \n",
    "    out = (Add())([x, y])\n",
    "    \n",
    "    out = (MaxPooling2D(pool_size = (2, 2),\n",
    "                        padding = 'same'))(out)\n",
    "    \n",
    "    out = (Dropout(0.3))(y)\n",
    "    \n",
    "    return out\n",
    "\n",
    "\n",
    "def residual_block_convolutional(x, l2_lambda):\n",
    "            \n",
    "    y = (Conv2D(filters = 16, \n",
    "               kernel_size = (1, 1),\n",
    "               strides = (2, 2),\n",
    "               activation = 'linear'))(x)\n",
    "    y = relu_bn(y)\n",
    "    \n",
    "    y = (LeakyReLU(alpha=0.1))(y)\n",
    "    \n",
    "    y = (Conv2D(filters = 32, \n",
    "               kernel_size = (5, 5),\n",
    "               padding = \"same\", \n",
    "               activation ='linear'))(y)\n",
    "    y = relu_bn(y)\n",
    "\n",
    "    y = (LeakyReLU(alpha=0.1))(y)\n",
    "    \n",
    "    x = (Conv2D(filters = 32, \n",
    "               kernel_size = (1, 1),\n",
    "               strides = (2, 2),\n",
    "               padding = \"same\", \n",
    "               activation ='linear'))(x)\n",
    "    \n",
    "    y = (LeakyReLU(alpha=0.1))(y)\n",
    "        \n",
    "    out = (Add())([x, y])\n",
    "    out = (MaxPooling2D(pool_size = (2, 2), \n",
    "                        padding = 'same'))(out)\n",
    "    out = (Dropout(0.1))(out)\n",
    "    \n",
    "    return out"
   ]
  },
  {
   "cell_type": "markdown",
   "metadata": {},
   "source": [
    "ResNet"
   ]
  },
  {
   "cell_type": "code",
   "execution_count": null,
   "metadata": {},
   "outputs": [],
   "source": [
    "def resnet(out_shape, mm, input_shape = (64, 64, 3), classes = 2):\n",
    "    \n",
    "    l2_lambda = 0.0001\n",
    "    num_filters = np.array([16, 32])\n",
    "    num_blocks_list = [2, 4]\n",
    "    \n",
    "    inputs = Input(input_shape)\n",
    "    \n",
    "    t = (BatchNormalization())(inputs)\n",
    "    t = (Conv2D(kernel_size = (mm, 5),\n",
    "               strides = (1, 1),\n",
    "               filters = 32,\n",
    "               padding = \"same\"))(inputs)\n",
    "        \n",
    "    for i in range(len(num_blocks_list)):\n",
    "        \n",
    "        num_blocks = num_blocks_list[i]\n",
    "        t = residual_block_convolutional(inputs, l2_lambda = l2_lambda)\n",
    "        \n",
    "        for j in range(num_blocks):\n",
    "            \n",
    "            t = residual_block_identity(t, filters = num_filters, l2_lambda = l2_lambda)\n",
    "    \n",
    "    layer4 = (Flatten())(t)\n",
    "    layer4 = (BatchNormalization())(layer4)\n",
    "    layer4 = (Dense((5 * mm), \n",
    "                    activation = 'linear', \n",
    "                    W_regularizer = l2(l2_lambda)))(layer4)\n",
    "    layer4 = (LeakyReLU(alpha = 0.1))(layer4)\n",
    "    layer4 = (Dropout(0.1))(layer4)\n",
    "    finish = []\n",
    "    \n",
    "    for i in range(int((mm ** 2 - mm) / 2)):\n",
    "        output = Dense(out_shape, activation = 'softmax', name = 'main_output'+str(i))(layer4)\n",
    "        finish.append(output)\n",
    "\n",
    "    model = Model(inputs = [inputs], outputs = finish)\n",
    "    model.compile(loss = \"categorical_crossentropy\", \n",
    "                  optimizer=keras.optimizers.Adam(lr = 0.001))\n",
    "\n",
    "    return model"
   ]
  },
  {
   "cell_type": "markdown",
   "metadata": {},
   "source": [
    "Training"
   ]
  },
  {
   "cell_type": "code",
   "execution_count": null,
   "metadata": {},
   "outputs": [],
   "source": [
    "batch_size = 8\n",
    "epochs = 25\n",
    "mm = 40\n",
    "\n",
    "model = resnet(np.shape(train_label)[2], mm, input_shape = (train.shape[1], train.shape[2], 1))\n",
    "\n",
    "history = model.fit(train, list(train_label), batch_size = batch_size, epochs = epochs, verbose = 1,\n",
    "                          validation_data=(np.array(valid), list(valid_label)))"
   ]
  },
  {
   "cell_type": "markdown",
   "metadata": {},
   "source": [
    "Making predictions"
   ]
  },
  {
   "cell_type": "code",
   "execution_count": null,
   "metadata": {},
   "outputs": [],
   "source": [
    "predicted = model.predict(test)\n",
    "\n",
    "print(np.shape(predicted))\n",
    "print(np.shape(test_label))\n",
    "\n",
    "output = open('predicted' + '.pkl', 'wb')\n",
    "pickle.dump(predicted, output)\n",
    "output.close()"
   ]
  },
  {
   "cell_type": "markdown",
   "metadata": {},
   "source": [
    "Plot the loss"
   ]
  },
  {
   "cell_type": "code",
   "execution_count": null,
   "metadata": {},
   "outputs": [],
   "source": [
    "plt.plot(history.history['loss'])\n",
    "plt.plot(history.history['val_loss'])\n",
    "plt.title('Model loss')\n",
    "plt.ylabel('Loss')\n",
    "plt.xlabel('Epoch')\n",
    "plt.legend(['Train', 'Test'], loc='upper left')\n",
    "plt.show()"
   ]
  }
 ],
 "metadata": {
  "kernelspec": {
   "display_name": "Python 3",
   "language": "python",
   "name": "python3"
  },
  "language_info": {
   "codemirror_mode": {
    "name": "ipython",
    "version": 3
   },
   "file_extension": ".py",
   "mimetype": "text/x-python",
   "name": "python",
   "nbconvert_exporter": "python",
   "pygments_lexer": "ipython3",
   "version": "3.8.1"
  }
 },
 "nbformat": 4,
 "nbformat_minor": 4
}
