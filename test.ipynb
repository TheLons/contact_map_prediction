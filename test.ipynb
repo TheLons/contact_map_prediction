{
 "cells": [
  {
   "cell_type": "markdown",
   "metadata": {},
   "source": [
    "# Test"
   ]
  },
  {
   "cell_type": "markdown",
   "metadata": {},
   "source": [
    "### Load data"
   ]
  },
  {
   "cell_type": "code",
   "execution_count": 54,
   "metadata": {},
   "outputs": [
    {
     "name": "stdout",
     "output_type": "stream",
     "text": [
      "(780, 73, 2)\n",
      "(780, 73, 2)\n"
     ]
    }
   ],
   "source": [
    "import pickle\n",
    "import sys\n",
    "import numpy as np\n",
    "import matplotlib.pyplot as plt\n",
    "\n",
    "from sklearn.metrics import f1_score\n",
    "from sklearn.metrics import f1_score\n",
    "from sklearn.metrics import accuracy_score\n",
    "\n",
    "def load_data(data_name):\n",
    "    pkl_file = open(data_name + '.pkl', 'rb')\n",
    "    data = pickle.load(pkl_file)\n",
    "    pkl_file.close()\n",
    "    return data\n",
    "\n",
    "test_label = load_data('test_bi')\n",
    "predicted = load_data('predicted_bi')\n",
    "\n",
    "print(np.shape(test_label))\n",
    "print(np.shape(predicted))"
   ]
  },
  {
   "cell_type": "markdown",
   "metadata": {},
   "source": [
    "### Metrics "
   ]
  },
  {
   "cell_type": "markdown",
   "metadata": {},
   "source": [
    "Cutoffs (L∕10, L∕5, L∕2 and L)\n",
    "\n",
    "\"Pairwise_score\" is for machine learning methods and \"score\" is for neural methods"
   ]
  },
  {
   "cell_type": "code",
   "execution_count": 55,
   "metadata": {},
   "outputs": [],
   "source": [
    "# Accuracy\n",
    "\n",
    "def pairwise_score(test_label, predicted, metric):\n",
    "    \n",
    "    score = []\n",
    "    pred = []\n",
    "    test = []\n",
    "\n",
    "    for i in range(np.shape(test_label)[0]):\n",
    "        pred = []\n",
    "        test = []\n",
    "\n",
    "        for j in range(np.shape(test_label)[1]):\n",
    "            pred.append(predicted[i][j])\n",
    "            test.append(test_label[i][j])\n",
    "\n",
    "        if metric == 'accuracy':\n",
    "            score.append(accuracy_score(test, pred))\n",
    "        elif metric == 'f1':\n",
    "            score.append(f1_score(test, pred))\n",
    "        else:\n",
    "            raise ValueError('No metric was found')\n",
    "\n",
    "    score = np.array(score)\n",
    "    score[::-1].sort()\n",
    "\n",
    "    L = np.mean(score)\n",
    "    L_2 = np.mean(score[:len(score) // 2])\n",
    "    L_5 = np.mean(score[:len(score) // 5])\n",
    "    L_10 = np.mean(score[:len(score) // 10])\n",
    "    \n",
    "    return L, L_2, L_5, L_10\n",
    "\n",
    "def score(test_label, predicted, metric):\n",
    "    \n",
    "    score = []\n",
    "    pred = []\n",
    "    test = []\n",
    "\n",
    "    for i in range(np.shape(test_label)[1]):\n",
    "        pred = []\n",
    "        test = []\n",
    "\n",
    "        for j in range(np.shape(test_label)[0]):\n",
    "            pred.append(np.argmax(predicted[j][i]))\n",
    "            test.append(np.argmax(test_label[j][i]))\n",
    "\n",
    "        if metric == 'accuracy':\n",
    "            score.append(accuracy_score(test, pred))\n",
    "        elif metric == 'f1':\n",
    "            score.append(f1_score(test, pred))\n",
    "        else:\n",
    "            raise ValueError('No metric was found')\n",
    "\n",
    "    score = np.array(score)\n",
    "    score[::-1].sort()\n",
    "\n",
    "    L = np.mean(score)\n",
    "    L_2 = np.mean(score[:len(score) // 2])\n",
    "    L_5 = np.mean(score[:len(score) // 5])\n",
    "    L_10 = np.mean(score[:len(score) // 10])\n",
    "    \n",
    "    return L, L_2, L_5, L_10"
   ]
  },
  {
   "cell_type": "code",
   "execution_count": 36,
   "metadata": {},
   "outputs": [
    {
     "data": {
      "text/plain": [
       "(0.9362585771036476,\n",
       " 0.9665567765567766,\n",
       " 0.9887362637362636,\n",
       " 0.9923076923076923)"
      ]
     },
     "execution_count": 36,
     "metadata": {},
     "output_type": "execute_result"
    }
   ],
   "source": [
    "pairwise_score(test_label, predicted, 'accuracy')"
   ]
  },
  {
   "cell_type": "code",
   "execution_count": 35,
   "metadata": {},
   "outputs": [
    {
     "data": {
      "text/plain": [
       "(0.7989914924187449,\n",
       " 0.8839333405980416,\n",
       " 0.9576484424821008,\n",
       " 0.9725205614187568)"
      ]
     },
     "execution_count": 35,
     "metadata": {},
     "output_type": "execute_result"
    }
   ],
   "source": [
    "pairwise_score(test_label, predicted, 'f1')"
   ]
  },
  {
   "cell_type": "code",
   "execution_count": 56,
   "metadata": {},
   "outputs": [],
   "source": [
    "test_matrix = [[[0] * 40 for i in range(40)] for i in range(np.shape(test_label)[1])]\n",
    "pred_matrix = [[[0] * 40 for i in range(40)] for i in range(np.shape(test_label)[1])]\n",
    "\n",
    "for i in range(np.shape(test_label)[1]):\n",
    "    cnt = 0\n",
    "    for j in range(40):\n",
    "        for k in range(j + 1, 40):\n",
    "            test_matrix[i][j][k] = np.argmax(test_label[cnt][i])\n",
    "            test_matrix[i][k][j] = np.argmax(test_label[cnt][i])\n",
    "            \n",
    "            pred_matrix[i][j][k] = np.argmax(predicted[cnt][i])\n",
    "            pred_matrix[i][k][j] = np.argmax(predicted[cnt][i])\n",
    "            \n",
    "            cnt += 1"
   ]
  },
  {
   "cell_type": "markdown",
   "metadata": {},
   "source": [
    "### Triangle to matrix"
   ]
  },
  {
   "cell_type": "code",
   "execution_count": 39,
   "metadata": {},
   "outputs": [],
   "source": [
    "test_matrix = [[[0] * 40 for i in range(40)] for i in range(np.shape(test_label)[0])]\n",
    "pred_matrix = [[[0] * 40 for i in range(40)] for i in range(np.shape(test_label)[0])]\n",
    "\n",
    "for i in range(np.shape(test_label)[0]):\n",
    "    cnt = 0\n",
    "    for j in range(40):\n",
    "        for k in range(j + 1, 40):\n",
    "            test_matrix[i][j][k] = test_label[i][cnt]\n",
    "            test_matrix[i][k][j] = test_label[i][cnt]\n",
    "            \n",
    "            pred_matrix[i][j][k] = predicted[i][cnt]\n",
    "            pred_matrix[i][k][j] = predicted[i][cnt]\n",
    "            \n",
    "            cnt += 1"
   ]
  },
  {
   "cell_type": "code",
   "execution_count": 58,
   "metadata": {},
   "outputs": [],
   "source": [
    "test_matrix = np.array(test_matrix)\n",
    "pred_matrix = np.array(pred_matrix)"
   ]
  },
  {
   "cell_type": "code",
   "execution_count": 59,
   "metadata": {},
   "outputs": [
    {
     "data": {
      "text/plain": [
       "((73, 40, 40), (73, 40, 40))"
      ]
     },
     "execution_count": 59,
     "metadata": {},
     "output_type": "execute_result"
    }
   ],
   "source": [
    "test_matrix.shape, pred_matrix.shape"
   ]
  },
  {
   "cell_type": "markdown",
   "metadata": {},
   "source": [
    "### Visualization"
   ]
  },
  {
   "cell_type": "code",
   "execution_count": 63,
   "metadata": {},
   "outputs": [
    {
     "data": {
      "image/png": "[encoded data removed]",
      "text/plain": [
       "<Figure size 1440x1440 with 2 Axes>"
      ]
     },
     "metadata": {
      "needs_background": "light"
     },
     "output_type": "display_data"
    },
    {
     "data": {
      "image/png": "[encoded data removed]",
      "text/plain": [
       "<Figure size 864x864 with 1 Axes>"
      ]
     },
     "metadata": {
      "needs_background": "light"
     },
     "output_type": "display_data"
    }
   ],
   "source": [
    "prot_number = 2\n",
    "\n",
    "visual_pred = pred_matrix[prot_number]\n",
    "visual_test = test_matrix[prot_number]\n",
    "\n",
    "visual_pred[(visual_pred != 0) & (visual_pred <= 16) | (visual_pred == 63)] = 1\n",
    "visual_test[(visual_test != 0) & (visual_test <= 16) | (visual_test == 63)] = 1\n",
    "\n",
    "visual_pred[(visual_pred > 16) & (visual_pred != 63)] = 0\n",
    "visual_test[(visual_test > 16) & (visual_test != 63)] = 0\n",
    "\n",
    "fig, (ax1, ax2)=plt.subplots(nrows = 1, ncols = 2, figsize = (20, 20))\n",
    "\n",
    "ax1.set_title('Test')\n",
    "ax1.imshow(visual_test, cmap='rainbow')\n",
    "\n",
    "for i in range(40):\n",
    "        for j in range(40):\n",
    "            text = ax1.text(j, i, visual_test[i, j],\n",
    "                           ha=\"center\", va=\"center\", color=\"black\")\n",
    "            \n",
    "ax2.set_title('Predicted')\n",
    "ax2.imshow(visual_pred, cmap='rainbow')\n",
    "\n",
    "for i in range(40):\n",
    "        for j in range(40):\n",
    "            text = ax2.text(j, i, visual_pred[i, j],\n",
    "                           ha=\"center\", va=\"center\", color=\"black\")\n",
    "\n",
    "plt.show()\n",
    "\n",
    "\n",
    "def visualize(prot_number):\n",
    "    visual_pred = pred_matrix[prot_number]\n",
    "    visual_test = test_matrix[prot_number]\n",
    "    fig=plt.figure(figsize=(12, 12))\n",
    "    fig.add_subplot(1, 1, 1)\n",
    "    plt.imshow(visual_test, cmap='Paired')\n",
    "    plt.imshow(visual_pred, alpha=.5, cmap='gray')\n",
    "    plt.show()\n",
    "\n",
    "visualize(prot_number)"
   ]
  },
  {
   "cell_type": "code",
   "execution_count": null,
   "metadata": {},
   "outputs": [],
   "source": []
  }
 ],
 "metadata": {
  "anaconda-cloud": {},
  "kernelspec": {
   "display_name": "Python 3",
   "language": "python",
   "name": "python3"
  },
  "language_info": {
   "codemirror_mode": {
    "name": "ipython",
    "version": 3
   },
   "file_extension": ".py",
   "mimetype": "text/x-python",
   "name": "python",
   "nbconvert_exporter": "python",
   "pygments_lexer": "ipython3",
   "version": "3.8.1"
  }
 },
 "nbformat": 4,
 "nbformat_minor": 1
}
