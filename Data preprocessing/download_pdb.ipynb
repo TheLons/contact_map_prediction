{
 "cells": [
  {
   "cell_type": "markdown",
   "metadata": {},
   "source": [
    "# Downloading pdb"
   ]
  },
  {
   "cell_type": "code",
   "execution_count": 1,
   "metadata": {},
   "outputs": [],
   "source": [
    "import Bio\n",
    "from Bio.PDB import PDBList\n",
    "import pandas as pd\n",
    "from tqdm import trange\n",
    "\n",
    "# Selecting structures from PDB\n",
    "\n",
    "pdbl = PDBList()\n",
    "pdb_list = pd.read_csv('./data/pdb_200.csv')\n",
    "\n",
    "for i in trange(len(pdb_list['pdb_name'])):\n",
    "    pdbl.retrieve_pdb_file(pdb_list['pdb_name'][i], file_format='pdb', pdir='./data/pdb_pdbformat/')"
   ]
  }
 ],
 "metadata": {
  "anaconda-cloud": {},
  "kernelspec": {
   "display_name": "Python 3",
   "language": "python",
   "name": "python3"
  },
  "language_info": {
   "codemirror_mode": {
    "name": "ipython",
    "version": 3
   },
   "file_extension": ".py",
   "mimetype": "text/x-python",
   "name": "python",
   "nbconvert_exporter": "python",
   "pygments_lexer": "ipython3",
   "version": "3.8.1"
  }
 },
 "nbformat": 4,
 "nbformat_minor": 1
}
