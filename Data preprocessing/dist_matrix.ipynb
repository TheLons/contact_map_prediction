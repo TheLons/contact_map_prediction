{
 "cells": [
  {
   "cell_type": "markdown",
   "metadata": {},
   "source": [
    "# Distance matrix"
   ]
  },
  {
   "cell_type": "code",
   "execution_count": null,
   "metadata": {},
   "outputs": [],
   "source": [
    "from Bio.PDB import *\n",
    "import numpy as np\n",
    "import math\n",
    "from glob import glob\n",
    "import pandas as pd\n",
    "import pickle"
   ]
  },
  {
   "cell_type": "markdown",
   "metadata": {},
   "source": [
    "Creating zero and distance matrices"
   ]
  },
  {
   "cell_type": "code",
   "execution_count": null,
   "metadata": {},
   "outputs": [],
   "source": [
    "def two_maps(res_list):\n",
    "    \n",
    "    coords = []\n",
    "    S = 0\n",
    "    \n",
    "    for res in res_list:\n",
    "        if str(res)[8:12] == 'HOH':\n",
    "            break\n",
    "        else:\n",
    "            for atoms in res:\n",
    "                if str(atoms) == '<Atom CA>':\n",
    "                    \n",
    "                    coords.append(atoms.get_coord())\n",
    "                    S +=1\n",
    "\n",
    "    coords = np.array(coords)\n",
    "    map_of_cont = np.zeros((len(coords), len(coords)))\n",
    "    map_of_dist = np.zeros((len(coords), len(coords)))\n",
    "    \n",
    "    for i in range(len(coords) - 1):\n",
    "        for j in range (i + 1, len(coords)):\n",
    "            \n",
    "            map_of_dist[i, j] = math.sqrt((coords[i, 0] - coords[j, 0])**2 + (coords[i, 1] - coords[j, 1])**2 + (coords[i, 2] - coords[j, 2])**2)\n",
    "            map_of_dist[j, i] = map_of_dist[i, j]\n",
    "            \n",
    "            if math.sqrt((coords[i, 0] - coords[j, 0])**2 + (coords[i, 1] - coords[j, 1])**2 + (coords[i, 2] - coords[j, 2])**2) <= 8:\n",
    "                \n",
    "                map_of_cont[i,j] = 1\n",
    "                map_of_cont[j,i] = 1\n",
    "                \n",
    "    return(map_of_dist, map_of_cont)"
   ]
  },
  {
   "cell_type": "markdown",
   "metadata": {},
   "source": [
    "Reading and transforming information"
   ]
  },
  {
   "cell_type": "code",
   "execution_count": 1,
   "metadata": {},
   "outputs": [],
   "source": [
    "parser = PDBParser()\n",
    "\n",
    "prot_df = pd.read_csv('./data/pdb_200.csv')\n",
    "pdb_files = glob('./data/pdb_pdbformat/*.ent')\n",
    "two_matrix = []\n",
    "S = 0\n",
    "\n",
    "for fileName in pdb_files:\n",
    "    structure_id = fileName[-8:-4]\n",
    "    \n",
    "    if structure_id.upper() in prot_df.pdb_name.tolist():\n",
    "        try:\n",
    "            structure = parser.get_structure(structure_id, fileName)\n",
    "            model = structure[0]\n",
    "            res_list = Selection.unfold_entities(model, 'R')\n",
    "            A, B = two_maps(res_list)\n",
    "            two_matrix.append([structure_id.upper(), A, B])\n",
    "            S += 1\n",
    "            \n",
    "        except PDBConstructionException:\n",
    "            print('Ошибка!')\n",
    "\n",
    "output = open('two_matrix_200.pkl', 'wb')\n",
    "pickle.dump(two_matrix, output)\n",
    "output.close()"
   ]
  }
 ],
 "metadata": {
  "anaconda-cloud": {},
  "kernelspec": {
   "display_name": "Python 3",
   "language": "python",
   "name": "python3"
  },
  "language_info": {
   "codemirror_mode": {
    "name": "ipython",
    "version": 3
   },
   "file_extension": ".py",
   "mimetype": "text/x-python",
   "name": "python",
   "nbconvert_exporter": "python",
   "pygments_lexer": "ipython3",
   "version": "3.8.1"
  }
 },
 "nbformat": 4,
 "nbformat_minor": 1
}
